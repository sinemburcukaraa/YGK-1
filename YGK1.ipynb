{
 "cells": [
  {
   "cell_type": "markdown",
   "id": "d0dc3b2f-e7f3-4f85-ad2b-451593cf7764",
   "metadata": {},
   "source": [
    "# Değişken türleri"
   ]
  },
  {
   "cell_type": "code",
   "execution_count": 133,
   "id": "c6ab299a-89f6-4f85-a5b1-baddbbd8806b",
   "metadata": {},
   "outputs": [],
   "source": [
    "stNumber = \"123\"\n",
    "intValue = 45"
   ]
  },
  {
   "cell_type": "markdown",
   "id": "11b5d975-9505-43c6-9c21-477bebe276e9",
   "metadata": {},
   "source": [
    "# Ödev 1: Veri tipleri arasında dönüşüm"
   ]
  },
  {
   "cell_type": "code",
   "execution_count": 136,
   "id": "3f3d4032-af7e-47ce-a134-8afa85141efc",
   "metadata": {},
   "outputs": [],
   "source": [
    "st_int = int(stNumber)  # string'den int'e dönüşüm\n",
    "int_st = str(intValue)  # int'ten string'e dönüşüm\n",
    "st_float = float(stNumber)  # string'den float'a dönüşüm\n",
    "int_float = float(intValue)  # int'ten float'a dönüşüm"
   ]
  },
  {
   "cell_type": "markdown",
   "id": "687e1100-6995-434b-96fc-9446e6c5981c",
   "metadata": {},
   "source": [
    "# Sonuçları yazdırma"
   ]
  },
  {
   "cell_type": "code",
   "execution_count": 139,
   "id": "5efeaab0-79ed-4564-adc1-8ac97699e2f0",
   "metadata": {},
   "outputs": [
    {
     "data": {
      "text/plain": [
       "int"
      ]
     },
     "execution_count": 139,
     "metadata": {},
     "output_type": "execute_result"
    }
   ],
   "source": [
    "type(st_int)"
   ]
  },
  {
   "cell_type": "code",
   "execution_count": 141,
   "id": "82b793e9-726b-4906-a436-4cb6af25858e",
   "metadata": {},
   "outputs": [
    {
     "data": {
      "text/plain": [
       "str"
      ]
     },
     "execution_count": 141,
     "metadata": {},
     "output_type": "execute_result"
    }
   ],
   "source": [
    "type(int_st)"
   ]
  },
  {
   "cell_type": "code",
   "execution_count": 143,
   "id": "d6fe567d-7287-49ea-9aef-cabb69570b50",
   "metadata": {},
   "outputs": [
    {
     "data": {
      "text/plain": [
       "float"
      ]
     },
     "execution_count": 143,
     "metadata": {},
     "output_type": "execute_result"
    }
   ],
   "source": [
    "type(st_float)"
   ]
  },
  {
   "cell_type": "code",
   "execution_count": 145,
   "id": "5f697291-93c0-45d0-9b14-d3907be51e19",
   "metadata": {},
   "outputs": [
    {
     "data": {
      "text/plain": [
       "float"
      ]
     },
     "execution_count": 145,
     "metadata": {},
     "output_type": "execute_result"
    }
   ],
   "source": [
    "type(int_float)"
   ]
  },
  {
   "cell_type": "markdown",
   "id": "5b8394fb-3be7-42b4-b614-c131544b1379",
   "metadata": {},
   "source": [
    "# Ödev-2: "
   ]
  },
  {
   "cell_type": "raw",
   "id": "371161ea-00e9-4337-8a5d-a9ba7c69ffb9",
   "metadata": {},
   "source": [
    "İsimlerden oluşan üç değişkene yaş değerleri atanır. Belirlenen üç değişken birbiriyle karşılaştırma operatörleri ile karşılaştırılır. Bu karşılaştırmalara mantıksal operatörler de eklenir."
   ]
  },
  {
   "cell_type": "code",
   "execution_count": 148,
   "id": "8978a61e-5465-4a2b-9c66-a7bf4051815b",
   "metadata": {},
   "outputs": [],
   "source": [
    "sinem = 22\n",
    "burcu = 25\n",
    "kara = 30"
   ]
  },
  {
   "cell_type": "code",
   "execution_count": 150,
   "id": "d9f7401f-15c5-404a-96c5-08dec2af8bed",
   "metadata": {},
   "outputs": [
    {
     "data": {
      "text/plain": [
       "False"
      ]
     },
     "execution_count": 150,
     "metadata": {},
     "output_type": "execute_result"
    }
   ],
   "source": [
    "burcu < sinem"
   ]
  },
  {
   "cell_type": "code",
   "execution_count": 152,
   "id": "bded15e1-86e6-4acc-be41-99c09f8d01de",
   "metadata": {},
   "outputs": [
    {
     "data": {
      "text/plain": [
       "True"
      ]
     },
     "execution_count": 152,
     "metadata": {},
     "output_type": "execute_result"
    }
   ],
   "source": [
    "kara > burcu"
   ]
  },
  {
   "cell_type": "code",
   "execution_count": 154,
   "id": "b86c1d73-3767-4aa2-94de-053b7758d98a",
   "metadata": {},
   "outputs": [
    {
     "data": {
      "text/plain": [
       "True"
      ]
     },
     "execution_count": 154,
     "metadata": {},
     "output_type": "execute_result"
    }
   ],
   "source": [
    "sinem <= kara"
   ]
  },
  {
   "cell_type": "code",
   "execution_count": 156,
   "id": "f3811694-1da2-4505-bb55-60f70cc598ed",
   "metadata": {},
   "outputs": [
    {
     "data": {
      "text/plain": [
       "True"
      ]
     },
     "execution_count": 156,
     "metadata": {},
     "output_type": "execute_result"
    }
   ],
   "source": [
    "burcu > sinem and kara > sinem"
   ]
  },
  {
   "cell_type": "code",
   "execution_count": 158,
   "id": "2df1896e-c56e-4404-8890-c0ec85f07f44",
   "metadata": {},
   "outputs": [
    {
     "data": {
      "text/plain": [
       "False"
      ]
     },
     "execution_count": 158,
     "metadata": {},
     "output_type": "execute_result"
    }
   ],
   "source": [
    "sinem > kara or burcu > kara"
   ]
  },
  {
   "cell_type": "code",
   "execution_count": 160,
   "id": "238a9d83-7384-4264-ae94-8a90baf97005",
   "metadata": {},
   "outputs": [
    {
     "data": {
      "text/plain": [
       "False"
      ]
     },
     "execution_count": 160,
     "metadata": {},
     "output_type": "execute_result"
    }
   ],
   "source": [
    "not(kara > burcu)"
   ]
  },
  {
   "cell_type": "markdown",
   "id": "07958f6d-9a10-45ac-8a4d-80b32d7cd61f",
   "metadata": {},
   "source": [
    "# Ödev-3: "
   ]
  },
  {
   "cell_type": "raw",
   "id": "6b22f37c-a27d-4eec-8d47-5d2d28564e88",
   "metadata": {},
   "source": [
    "Kullanıcıdan iki değer girmesini istenir. Girilen değerlerin toplama, çıkarma, çarpma, bölme sonuçlarını yazdırılır."
   ]
  },
  {
   "cell_type": "code",
   "execution_count": 163,
   "id": "bc9ba088-7013-4a13-b614-1c556f1e877e",
   "metadata": {},
   "outputs": [
    {
     "name": "stdin",
     "output_type": "stream",
     "text": [
      "x sayısını giriniz  20\n",
      "y sayısını giriniz  5\n"
     ]
    }
   ],
   "source": [
    "x = int(input(\"x sayısını giriniz \"))\n",
    "y = int(input(\"y sayısını giriniz \"))"
   ]
  },
  {
   "cell_type": "code",
   "execution_count": 165,
   "id": "049e3b9f-9e13-48c0-b841-c1641167b898",
   "metadata": {},
   "outputs": [
    {
     "name": "stdout",
     "output_type": "stream",
     "text": [
      "değerlerin toplamı :  25\n",
      "değerlerin çıkarması :  15\n",
      "değerlerin çarpımı :  100\n",
      "değerlerin bölümü :  4.0\n"
     ]
    }
   ],
   "source": [
    "print (\"değerlerin toplamı : \" , x + y)\n",
    "print (\"değerlerin çıkarması : \" , x - y)\n",
    "print (\"değerlerin çarpımı : \" , x * y)\n",
    "print (\"değerlerin bölümü : \" , x / y)"
   ]
  },
  {
   "cell_type": "markdown",
   "id": "b1531370-51c2-4bd8-8d83-85c1fef3282f",
   "metadata": {},
   "source": [
    "# Ödev-4: \n"
   ]
  },
  {
   "cell_type": "raw",
   "id": "075dbd36-03d2-4a28-bfcd-f81bfa7eda11",
   "metadata": {},
   "source": [
    "Kullanıcıdan isim, yaş, şehir ve meslek bilgilerini istenir ve cevaplarını yazdırılır."
   ]
  },
  {
   "cell_type": "code",
   "execution_count": 168,
   "id": "eee43846-841f-4fb3-a313-836ab7b46745",
   "metadata": {},
   "outputs": [
    {
     "name": "stdin",
     "output_type": "stream",
     "text": [
      "İsminizi giriniz : Burcu\n",
      "Yaşınızı giriniz : 24\n",
      "Yaşadığınız şehri giriniz : Adana\n",
      "Mesleğinizi giriniz : Computer Engineer\n"
     ]
    }
   ],
   "source": [
    "name = str(input(\"İsminizi giriniz :\"))\n",
    "age = int(input(\"Yaşınızı giriniz :\"))\n",
    "city = str(input(\"Yaşadığınız şehri giriniz :\"))\n",
    "job = str(input(\"Mesleğinizi giriniz :\"))"
   ]
  },
  {
   "cell_type": "markdown",
   "id": "93a74f5a-657d-48e9-a11b-99a22ac392b0",
   "metadata": {},
   "source": [
    "# Ödev-5: "
   ]
  },
  {
   "cell_type": "raw",
   "id": "45fcb56b-5916-4ffd-8403-c8c5067f3b56",
   "metadata": {},
   "source": [
    "\"Yazılımla Güçlenen Kadınlar Veri Bilimi Atölyesi\" ifadesini bir değişkene tanımlanır.\n",
    "\n",
    "İfadedeki her bir kelimeyi (\"Yazılımla Güçlenen Kadınlar\", \"Veri\", \"Bilimi\", \"Atölyesi\") değişken içinden seçilir.\n",
    "İfadeyi hepsini büyük harf olacak hale çevrilir. (\"Yazılımla Güçlenen Kadınlar VERİ BİLİMİ ATÖLYESİ\")\n",
    "İfadeyi hepsini büyük harf olacak hale çevrilir.(\"Yazılımla Güçlenen Kadınlar veri bilimi atölyesi\")"
   ]
  },
  {
   "cell_type": "code",
   "execution_count": 170,
   "id": "14cb179a-f2fa-43f8-8c43-db1e506a2ff7",
   "metadata": {},
   "outputs": [],
   "source": [
    "expression = \"Yazılımla Güçlenen Kadınlar Veri Bilimi Atölyesi\"\n",
    "\n",
    "word1 = expression[0:27]\n",
    "word2 = expression[28:32]\n",
    "word3 = expression[33:39]\n",
    "word4 = expression[40:48]\n"
   ]
  },
  {
   "cell_type": "code",
   "execution_count": 172,
   "id": "d80f33ac-5873-48df-a0c7-9c897ca95d2a",
   "metadata": {},
   "outputs": [
    {
     "name": "stdout",
     "output_type": "stream",
     "text": [
      "Upper case: YAZILIMLA GÜÇLENEN KADINLAR VERI BILIMI ATÖLYESI\n",
      "Lower case: yazılımla güçlenen kadınlar veri bilimi atölyesi\n"
     ]
    }
   ],
   "source": [
    "expression_upper = expression.upper()\n",
    "print(f\"Upper case: {expression_upper}\")\n",
    "\n",
    "expression_lower = expression.lower()\n",
    "print(f\"Lower case: {expression_lower}\")"
   ]
  },
  {
   "cell_type": "raw",
   "id": "8834e5eb-1cbf-4127-b4c5-a9f31c1e7b05",
   "metadata": {},
   "source": [
    "\"0123456789\" ifadesindeki yalnızca çift sayıları ve yalnızca tek sayıları seçilir. (\"02468\", \"13579\")"
   ]
  },
  {
   "cell_type": "code",
   "execution_count": 178,
   "id": "1019fcf1-528a-4153-9867-6b01da5b8231",
   "metadata": {},
   "outputs": [],
   "source": [
    "digits = \"0123456789\"\n",
    "\n",
    "even_numbers = digits[0:9:2]\n",
    "odd_numbers = digits[1::2]"
   ]
  },
  {
   "cell_type": "code",
   "execution_count": 180,
   "id": "e6d0867e-ef89-4c99-9bb1-3f52fa1d233c",
   "metadata": {},
   "outputs": [
    {
     "name": "stdout",
     "output_type": "stream",
     "text": [
      "Even numbers: 02468\n",
      "Odd numbers: 13579\n"
     ]
    }
   ],
   "source": [
    "print(f\"Even numbers: {even_numbers}\")\n",
    "print(f\"Odd numbers: {odd_numbers}\")"
   ]
  },
  {
   "cell_type": "code",
   "execution_count": null,
   "id": "0c1f1005-facf-45fb-8d26-8f60639a87c3",
   "metadata": {},
   "outputs": [],
   "source": []
  },
  {
   "cell_type": "code",
   "execution_count": null,
   "id": "8164a2da-f06f-4ded-8ca1-60ca2824a02e",
   "metadata": {},
   "outputs": [],
   "source": []
  }
 ],
 "metadata": {
  "kernelspec": {
   "display_name": "Python 3 (ipykernel)",
   "language": "python",
   "name": "python3"
  },
  "language_info": {
   "codemirror_mode": {
    "name": "ipython",
    "version": 3
   },
   "file_extension": ".py",
   "mimetype": "text/x-python",
   "name": "python",
   "nbconvert_exporter": "python",
   "pygments_lexer": "ipython3",
   "version": "3.12.4"
  }
 },
 "nbformat": 4,
 "nbformat_minor": 5
}
